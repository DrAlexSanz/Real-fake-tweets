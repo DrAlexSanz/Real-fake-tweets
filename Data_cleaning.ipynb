{
  "nbformat": 4,
  "nbformat_minor": 0,
  "metadata": {
    "kernelspec": {
      "display_name": "Python 3",
      "language": "python",
      "name": "python3"
    },
    "language_info": {
      "codemirror_mode": {
        "name": "ipython",
        "version": 3
      },
      "file_extension": ".py",
      "mimetype": "text/x-python",
      "name": "python",
      "nbconvert_exporter": "python",
      "pygments_lexer": "ipython3",
      "version": "3.7.4"
    },
    "colab": {
      "name": "Data cleaning.ipynb",
      "provenance": [],
      "collapsed_sections": [],
      "toc_visible": true,
      "include_colab_link": true
    }
  },
  "cells": [
    {
      "cell_type": "markdown",
      "metadata": {
        "id": "view-in-github",
        "colab_type": "text"
      },
      "source": [
        "<a href=\"https://colab.research.google.com/github/DrAlexSanz/Real-fake-tweets/blob/master/Data_cleaning.ipynb\" target=\"_parent\"><img src=\"https://colab.research.google.com/assets/colab-badge.svg\" alt=\"Open In Colab\"/></a>"
      ]
    },
    {
      "cell_type": "markdown",
      "metadata": {
        "id": "xwohU8rvXBct",
        "colab_type": "text"
      },
      "source": [
        "This notebook is only for cleaning the data. The next ones will do more ML related tasks but this only cleans the data thoroughly. I can see that data cleaning is going to be critical in this one."
      ]
    },
    {
      "cell_type": "code",
      "metadata": {
        "id": "tKwNtM6uXBcu",
        "colab_type": "code",
        "outputId": "c4992c8e-4207-482e-93c2-a467a14fd1b5",
        "colab": {
          "base_uri": "https://localhost:8080/",
          "height": 105
        }
      },
      "source": [
        "import numpy as np\n",
        "import pandas as pd\n",
        "import os\n",
        "\n",
        "import seaborn as sns\n",
        "import matplotlib.pyplot as plt\n",
        "import matplotlib.patches as mpatches\n",
        "\n",
        "import nltk\n",
        "nltk.download('stopwords')\n",
        "\n",
        "from nltk.corpus import stopwords #This will in the end be set to english and it will be used as a dictionary of stopwords\n",
        "from nltk.util import ngrams\n",
        "from nltk.tokenize import word_tokenize\n",
        "\n",
        "from wordcloud import WordCloud\n",
        "\n",
        "from sklearn.feature_extraction.text import CountVectorizer#, TfidVectorizer\n",
        "from sklearn.model_selection import train_test_split #My old friend XD\n",
        "from sklearn.decomposition import PCA, TruncatedSVD\n",
        "from sklearn.metrics import classification_report, confusion_matrix\n",
        "\n",
        "from collections import defaultdict\n",
        "from collections import Counter\n",
        "\n",
        "stop = set(stopwords.words(\"english\"))\n",
        "\n",
        "import re\n",
        "import gensim\n",
        "import string"
      ],
      "execution_count": 1,
      "outputs": [
        {
          "output_type": "stream",
          "text": [
            "/usr/local/lib/python3.6/dist-packages/statsmodels/tools/_testing.py:19: FutureWarning: pandas.util.testing is deprecated. Use the functions in the public API at pandas.testing instead.\n",
            "  import pandas.util.testing as tm\n"
          ],
          "name": "stderr"
        },
        {
          "output_type": "stream",
          "text": [
            "[nltk_data] Downloading package stopwords to /root/nltk_data...\n",
            "[nltk_data]   Unzipping corpora/stopwords.zip.\n"
          ],
          "name": "stdout"
        }
      ]
    },
    {
      "cell_type": "code",
      "metadata": {
        "id": "iCyJlIFEXKN6",
        "colab_type": "code",
        "outputId": "c5b24418-b169-4b3d-ed0f-15dbc49c0dd2",
        "colab": {
          "base_uri": "https://localhost:8080/",
          "height": 122
        }
      },
      "source": [
        "from google.colab import drive\n",
        "drive.mount('/content/drive')"
      ],
      "execution_count": 2,
      "outputs": [
        {
          "output_type": "stream",
          "text": [
            "Go to this URL in a browser: https://accounts.google.com/o/oauth2/auth?client_id=947318989803-6bn6qk8qdgf4n4g3pfee6491hc0brc4i.apps.googleusercontent.com&redirect_uri=urn%3aietf%3awg%3aoauth%3a2.0%3aoob&response_type=code&scope=email%20https%3a%2f%2fwww.googleapis.com%2fauth%2fdocs.test%20https%3a%2f%2fwww.googleapis.com%2fauth%2fdrive%20https%3a%2f%2fwww.googleapis.com%2fauth%2fdrive.photos.readonly%20https%3a%2f%2fwww.googleapis.com%2fauth%2fpeopleapi.readonly\n",
            "\n",
            "Enter your authorization code:\n",
            "··········\n",
            "Mounted at /content/drive\n"
          ],
          "name": "stdout"
        }
      ]
    },
    {
      "cell_type": "markdown",
      "metadata": {
        "id": "_iKo_84zXBcx",
        "colab_type": "text"
      },
      "source": [
        "Enough with all the imports and dependencies, let's load the data. Now I feel like I'm finally doing something XD."
      ]
    },
    {
      "cell_type": "code",
      "metadata": {
        "id": "V97_KLGcXBcz",
        "colab_type": "code",
        "outputId": "bf020304-ed25-4114-9e6d-dc9c0b682ebe",
        "colab": {
          "base_uri": "https://localhost:8080/",
          "height": 221
        }
      },
      "source": [
        "%cd \"/content/drive/My Drive/Tweets\"\n",
        "\n",
        "train = pd.read_csv(\"train.csv\")\n",
        "test = pd.read_csv(\"test.csv\")\n",
        "train.head()"
      ],
      "execution_count": 3,
      "outputs": [
        {
          "output_type": "stream",
          "text": [
            "/content/drive/My Drive/Tweets\n"
          ],
          "name": "stdout"
        },
        {
          "output_type": "execute_result",
          "data": {
            "text/html": [
              "<div>\n",
              "<style scoped>\n",
              "    .dataframe tbody tr th:only-of-type {\n",
              "        vertical-align: middle;\n",
              "    }\n",
              "\n",
              "    .dataframe tbody tr th {\n",
              "        vertical-align: top;\n",
              "    }\n",
              "\n",
              "    .dataframe thead th {\n",
              "        text-align: right;\n",
              "    }\n",
              "</style>\n",
              "<table border=\"1\" class=\"dataframe\">\n",
              "  <thead>\n",
              "    <tr style=\"text-align: right;\">\n",
              "      <th></th>\n",
              "      <th>id</th>\n",
              "      <th>keyword</th>\n",
              "      <th>location</th>\n",
              "      <th>text</th>\n",
              "      <th>target</th>\n",
              "    </tr>\n",
              "  </thead>\n",
              "  <tbody>\n",
              "    <tr>\n",
              "      <th>0</th>\n",
              "      <td>1</td>\n",
              "      <td>NaN</td>\n",
              "      <td>NaN</td>\n",
              "      <td>Our Deeds are the Reason of this #earthquake M...</td>\n",
              "      <td>1</td>\n",
              "    </tr>\n",
              "    <tr>\n",
              "      <th>1</th>\n",
              "      <td>4</td>\n",
              "      <td>NaN</td>\n",
              "      <td>NaN</td>\n",
              "      <td>Forest fire near La Ronge Sask. Canada</td>\n",
              "      <td>1</td>\n",
              "    </tr>\n",
              "    <tr>\n",
              "      <th>2</th>\n",
              "      <td>5</td>\n",
              "      <td>NaN</td>\n",
              "      <td>NaN</td>\n",
              "      <td>All residents asked to 'shelter in place' are ...</td>\n",
              "      <td>1</td>\n",
              "    </tr>\n",
              "    <tr>\n",
              "      <th>3</th>\n",
              "      <td>6</td>\n",
              "      <td>NaN</td>\n",
              "      <td>NaN</td>\n",
              "      <td>13,000 people receive #wildfires evacuation or...</td>\n",
              "      <td>1</td>\n",
              "    </tr>\n",
              "    <tr>\n",
              "      <th>4</th>\n",
              "      <td>7</td>\n",
              "      <td>NaN</td>\n",
              "      <td>NaN</td>\n",
              "      <td>Just got sent this photo from Ruby #Alaska as ...</td>\n",
              "      <td>1</td>\n",
              "    </tr>\n",
              "  </tbody>\n",
              "</table>\n",
              "</div>"
            ],
            "text/plain": [
              "   id keyword  ...                                               text target\n",
              "0   1     NaN  ...  Our Deeds are the Reason of this #earthquake M...      1\n",
              "1   4     NaN  ...             Forest fire near La Ronge Sask. Canada      1\n",
              "2   5     NaN  ...  All residents asked to 'shelter in place' are ...      1\n",
              "3   6     NaN  ...  13,000 people receive #wildfires evacuation or...      1\n",
              "4   7     NaN  ...  Just got sent this photo from Ruby #Alaska as ...      1\n",
              "\n",
              "[5 rows x 5 columns]"
            ]
          },
          "metadata": {
            "tags": []
          },
          "execution_count": 3
        }
      ]
    },
    {
      "cell_type": "markdown",
      "metadata": {
        "id": "-cnDx3lkXBc4",
        "colab_type": "text"
      },
      "source": [
        "This story is about predicting if the tweets are about a real catastrophe or not (binary classification). Let's see the distribution of labels and hopefully it won't be very skewed. It's a tiny dataset."
      ]
    },
    {
      "cell_type": "code",
      "metadata": {
        "id": "qeAUC60tXBc5",
        "colab_type": "code",
        "outputId": "2ccc67c4-28d5-44ed-fcd2-b3406b316981",
        "colab": {
          "base_uri": "https://localhost:8080/",
          "height": 34
        }
      },
      "source": [
        "train_real = train[train[\"target\"] == 1].shape[0]\n",
        "train_fake = train[train[\"target\"] == 0].shape[0]\n",
        "\n",
        "print(\"there are {} real twits and {} fake twits\".format(train_real, train_fake))\n",
        "\n"
      ],
      "execution_count": 4,
      "outputs": [
        {
          "output_type": "stream",
          "text": [
            "there are 3271 real twits and 4342 fake twits\n"
          ],
          "name": "stdout"
        }
      ]
    },
    {
      "cell_type": "code",
      "metadata": {
        "id": "MIJaQoA4XBc9",
        "colab_type": "code",
        "outputId": "345e3937-001c-42ef-9951-66d127ee74ef",
        "colab": {
          "base_uri": "https://localhost:8080/",
          "height": 298
        }
      },
      "source": [
        "#Now the same but in bars\n",
        "\n",
        "plt.bar(10, train_real, 3, label = \"Real\")\n",
        "plt.bar(15, train_fake, 3, label = \"Fake\")\n",
        "plt.legend()\n",
        "plt.title(\"Proportion of real and fake twits\")"
      ],
      "execution_count": 5,
      "outputs": [
        {
          "output_type": "execute_result",
          "data": {
            "text/plain": [
              "Text(0.5, 1.0, 'Proportion of real and fake twits')"
            ]
          },
          "metadata": {
            "tags": []
          },
          "execution_count": 5
        },
        {
          "output_type": "display_data",
          "data": {
            "image/png": "[encoded data removed]",
            "text/plain": [
              "<Figure size 432x288 with 1 Axes>"
            ]
          },
          "metadata": {
            "tags": [],
            "needs_background": "light"
          }
        }
      ]
    },
    {
      "cell_type": "code",
      "metadata": {
        "id": "x5ycZSaNXBdA",
        "colab_type": "code",
        "colab": {}
      },
      "source": [
        "def length(text):\n",
        "    \"\"\"Just to calculate length, it's tu use in an apply method. Probably there is a better way to do it\n",
        "        but I can't think of one right now.\n",
        "    \"\"\"\n",
        "    return len(text)"
      ],
      "execution_count": 0,
      "outputs": []
    },
    {
      "cell_type": "code",
      "metadata": {
        "id": "5OkN0nTHXBdE",
        "colab_type": "code",
        "colab": {}
      },
      "source": [
        "# I will remove these columns when I save the clean data but it's very useful to explore them.\n",
        "train[\"length\"] = train[\"text\"].apply(length)\n",
        "test[\"length\"] = test[\"text\"].apply(length)"
      ],
      "execution_count": 0,
      "outputs": []
    },
    {
      "cell_type": "markdown",
      "metadata": {
        "id": "lj8bkVTxXBdJ",
        "colab_type": "text"
      },
      "source": [
        "Now I want to have a look to see how long are the fake and real tweets. That may be something Lacambra style."
      ]
    },
    {
      "cell_type": "code",
      "metadata": {
        "id": "IzaBzyw8XBdJ",
        "colab_type": "code",
        "outputId": "b578b88c-2941-4b43-eba7-2a85f9d35931",
        "colab": {
          "base_uri": "https://localhost:8080/",
          "height": 308
        }
      },
      "source": [
        "bins = 140 # Twitter has 280 chars, so I will group tweets of 1 and 2, 3 and 4, etc.\n",
        "\n",
        "plt.rcParams[\"figure.figsize\"] = (18, 5)\n",
        "plt.hist(train[train[\"target\"] == 0][\"length\"], alpha = 0.6, bins = bins, label = \"Fake\"); #Alpha is the transparency\n",
        "plt.hist(train[train[\"target\"] == 1][\"length\"], alpha = 0.8, bins = bins, label = \"Real\");\n",
        "plt.xlim(0, 150)\n",
        "plt.legend()\n",
        "#plt.grid()"
      ],
      "execution_count": 8,
      "outputs": [
        {
          "output_type": "execute_result",
          "data": {
            "text/plain": [
              "<matplotlib.legend.Legend at 0x7f632d559e80>"
            ]
          },
          "metadata": {
            "tags": []
          },
          "execution_count": 8
        },
        {
          "output_type": "display_data",
          "data": {
            "image/png": "[encoded data removed]",
            "text/plain": [
              "<Figure size 1296x360 with 1 Axes>"
            ]
          },
          "metadata": {
            "tags": [],
            "needs_background": "light"
          }
        }
      ]
    },
    {
      "cell_type": "markdown",
      "metadata": {
        "id": "Uqxk-pEGXBdM",
        "colab_type": "text"
      },
      "source": [
        "This is relatively uninforming but there are less real tweets that are very short. Let's see the length of the tweets in characters. It's not independent of the length but just for completeness."
      ]
    },
    {
      "cell_type": "code",
      "metadata": {
        "id": "rzNYFez9XBdM",
        "colab_type": "code",
        "outputId": "2fb244f5-ed3f-4417-9476-0a7cc8116c27",
        "colab": {
          "base_uri": "https://localhost:8080/",
          "height": 356
        }
      },
      "source": [
        "fig, (ax1, ax2) = plt.subplots(1, 2, figsize = (10, 5))\n",
        "\n",
        "real_length = train[train[\"target\"] == 1][\"text\"].str.len()\n",
        "ax1.hist(real_length, color = \"blue\");\n",
        "ax1.set_title(\"Real disaster tweets\")\n",
        "fake_length = train[train[\"target\"] == 0][\"text\"].str.len()\n",
        "ax2.hist(fake_length, color = \"red\");\n",
        "ax2.set_title(\"Fake disaster tweets\")\n",
        "fig.suptitle(\"Distribution of number of characters in tweets\");\n",
        "\n"
      ],
      "execution_count": 9,
      "outputs": [
        {
          "output_type": "display_data",
          "data": {
            "image/png": "[encoded data removed]",
            "text/plain": [
              "<Figure size 720x360 with 2 Axes>"
            ]
          },
          "metadata": {
            "tags": [],
            "needs_background": "light"
          }
        }
      ]
    },
    {
      "cell_type": "markdown",
      "metadata": {
        "id": "z306GQkfXBdO",
        "colab_type": "text"
      },
      "source": [
        "The characters doesn't help. Most tweets are between 120 and 140 characters. But I can see the number of WORDS, not characters. Dimitri from Vladivostok may be lazy and generate always tweets with the same words. I can't see the number of words like that, I'll plot the average word length per tweet. That I can plot."
      ]
    },
    {
      "cell_type": "code",
      "metadata": {
        "id": "6sZdmthbXBdP",
        "colab_type": "code",
        "outputId": "2fbe7ace-5d83-464c-e974-b6552842e122",
        "colab": {
          "base_uri": "https://localhost:8080/",
          "height": 370
        }
      },
      "source": [
        "fig, (ax1, ax2) = plt.subplots(1, 2, figsize = (10, 5))\n",
        "\n",
        "word = train[train[\"target\"] == 1][\"text\"].str.split().apply(lambda x: [len(i) for i in x])\n",
        "sns.distplot(word.map(lambda x: np.mean(x)), ax = ax1, color = \"blue\")\n",
        "ax1.set_title(\"Real disaster tweets\");\n",
        "\n",
        "word = train[train[\"target\"] == 0][\"text\"].str.split().apply(lambda x: [len(i) for i in x])\n",
        "sns.distplot(word.map(lambda x: np.mean(x)), ax = ax2, color = \"red\")\n",
        "ax2.set_title(\"Fake disaster tweets\");\n",
        "\n",
        "fig.suptitle(\"Average word length per tweet\");"
      ],
      "execution_count": 10,
      "outputs": [
        {
          "output_type": "display_data",
          "data": {
            "image/png": "[encoded data removed]",
            "text/plain": [
              "<Figure size 720x360 with 2 Axes>"
            ]
          },
          "metadata": {
            "tags": [],
            "needs_background": "light"
          }
        }
      ]
    },
    {
      "cell_type": "markdown",
      "metadata": {
        "id": "HChYsiSsXBdR",
        "colab_type": "text"
      },
      "source": [
        "This doesn't tell me much, the distribution is almost identical. Dimitri has been industrious."
      ]
    },
    {
      "cell_type": "code",
      "metadata": {
        "id": "C6BMFWzCXBdR",
        "colab_type": "code",
        "colab": {}
      },
      "source": [
        "def create_corpus(target):\n",
        "    \n",
        "    corpus = []\n",
        "    \n",
        "    for x in train[train[\"target\"] == target][\"text\"].str.split():\n",
        "        for i in x:\n",
        "            corpus.append(i)\n",
        "            \n",
        "    return corpus"
      ],
      "execution_count": 0,
      "outputs": []
    },
    {
      "cell_type": "code",
      "metadata": {
        "id": "A8yFMRNfXBdV",
        "colab_type": "code",
        "colab": {}
      },
      "source": [
        "def create_corpus_df(df, target):\n",
        "    \n",
        "    corpus = []\n",
        "    \n",
        "    for x in df[df[\"target\"] == target][\"text\"].str.split():\n",
        "        for i in x:\n",
        "            corpus.append(i)\n",
        "            \n",
        "    return corpus"
      ],
      "execution_count": 0,
      "outputs": []
    },
    {
      "cell_type": "markdown",
      "metadata": {
        "id": "Z2x6xCpQXBdX",
        "colab_type": "text"
      },
      "source": [
        "Let's focus on the fake tweets first (labeled 0)"
      ]
    },
    {
      "cell_type": "code",
      "metadata": {
        "id": "AUGnjVdvXBdX",
        "colab_type": "code",
        "outputId": "25a35b8d-39d7-482e-a18e-f636f7a3d735",
        "colab": {
          "base_uri": "https://localhost:8080/",
          "height": 34
        }
      },
      "source": [
        "#corpus = create_corpus(0)\n",
        "corups = create_corpus_df(train, 0)\n",
        "corups[0:10]\n"
      ],
      "execution_count": 13,
      "outputs": [
        {
          "output_type": "execute_result",
          "data": {
            "text/plain": [
              "[\"What's\", 'up', 'man?', 'I', 'love', 'fruits', 'Summer', 'is', 'lovely', 'My']"
            ]
          },
          "metadata": {
            "tags": []
          },
          "execution_count": 13
        }
      ]
    },
    {
      "cell_type": "markdown",
      "metadata": {
        "id": "7x7n1oi6vVHP",
        "colab_type": "text"
      },
      "source": [
        "This is working ok but I should check the stopwords. First with the fake tweets."
      ]
    },
    {
      "cell_type": "code",
      "metadata": {
        "id": "kYFw-cOpvp2q",
        "colab_type": "code",
        "outputId": "ac33bea0-6f7f-41b0-e2af-64b7dda94c08",
        "colab": {
          "base_uri": "https://localhost:8080/",
          "height": 187
        }
      },
      "source": [
        "corpus = create_corpus(0)\n",
        "\n",
        "dic = defaultdict(int)\n",
        "\n",
        "for word in corpus:\n",
        "    if word in stop:\n",
        "        dic[word] += 1 #Skip if it's a stop word\n",
        "\n",
        "top = sorted(dic.items(), key = lambda x: x[1], reverse = True)[:10]\n",
        "\n",
        "#The key is the index to sort.\n",
        "top"
      ],
      "execution_count": 14,
      "outputs": [
        {
          "output_type": "execute_result",
          "data": {
            "text/plain": [
              "[('the', 1524),\n",
              " ('a', 1115),\n",
              " ('to', 1099),\n",
              " ('and', 840),\n",
              " ('of', 834),\n",
              " ('in', 720),\n",
              " ('you', 529),\n",
              " ('is', 512),\n",
              " ('for', 452),\n",
              " ('my', 442)]"
            ]
          },
          "metadata": {
            "tags": []
          },
          "execution_count": 14
        }
      ]
    },
    {
      "cell_type": "code",
      "metadata": {
        "id": "kt5Iq-gSBSvW",
        "colab_type": "code",
        "outputId": "93430f1e-8832-4a72-ccad-91a53e110e32",
        "colab": {
          "base_uri": "https://localhost:8080/",
          "height": 71
        }
      },
      "source": [
        "# and the stopwords are:\n",
        "\n",
        "np.array(stop)"
      ],
      "execution_count": 15,
      "outputs": [
        {
          "output_type": "execute_result",
          "data": {
            "text/plain": [
              "array({'needn', 'which', 'they', 'this', \"should've\", 'about', 'itself', 'with', \"needn't\", \"you've\", 'doesn', 'am', 'than', 'same', \"doesn't\", \"that'll\", 'haven', 'are', 'whom', 'ourselves', 'has', 'below', 'can', 'do', 'who', \"you're\", 'as', \"aren't\", \"weren't\", 'themselves', \"she's\", 'my', 'y', \"hadn't\", 'myself', 'just', 'isn', 'until', \"mightn't\", 'that', 'been', 'after', 'now', 'what', 'ours', 'should', 'couldn', 'she', 'be', 'to', 'being', 'over', 'very', 'an', 'him', 'wouldn', 'under', 'shouldn', 'yours', 'our', 'ma', 'only', 'for', 'down', 'but', 'hasn', 'both', \"mustn't\", 'any', \"it's\", 'each', 'weren', 'not', 'yourselves', 'at', 'd', 'during', 'out', 'i', \"wouldn't\", 'those', 'between', 'why', 'some', 'these', 'll', 'before', 'so', \"don't\", 'from', 'because', 'there', 'your', 'too', 'if', 'or', 'such', 'yourself', 'no', \"haven't\", 'through', 'having', 'their', 'was', \"isn't\", 'wasn', \"wasn't\", 'is', 'her', 'few', 'nor', 'while', 'had', 'were', \"won't\", 'have', 'o', 'does', 'it', 'then', \"didn't\", 'hadn', 'mustn', 'me', 'once', 've', 'into', 're', 'won', 'don', 'hers', \"you'd\", \"shouldn't\", 'again', 'ain', 'he', 'own', 'off', 'herself', 'shan', 'on', 'how', \"couldn't\", 'didn', 'himself', 's', 'in', 'you', 'them', 'up', 'theirs', 'mightn', 'other', 'we', 'did', 'a', 'aren', 'further', 'of', 'more', 'all', 'here', 'the', 'doing', \"you'll\", 'where', 'and', 'his', 'when', 'its', 'by', 'above', 'most', \"hasn't\", 'against', 't', 'm', \"shan't\", 'will'},\n",
              "      dtype=object)"
            ]
          },
          "metadata": {
            "tags": []
          },
          "execution_count": 15
        }
      ]
    },
    {
      "cell_type": "code",
      "metadata": {
        "id": "vUJrAD1uCR55",
        "colab_type": "code",
        "outputId": "78cd1828-fbd1-4f79-8a14-1b8967ed47d6",
        "colab": {
          "base_uri": "https://localhost:8080/",
          "height": 516
        }
      },
      "source": [
        "plt.rcParams[\"figure.figsize\"] = (16, 8)\n",
        "\n",
        "x, y = zip(*top) #This is unzipping the two values for each entry of top\n",
        "\n",
        "plt.bar(x, y);\n",
        "plt.title(\"Most common words in fake tweets\")\n",
        "\n"
      ],
      "execution_count": 16,
      "outputs": [
        {
          "output_type": "execute_result",
          "data": {
            "text/plain": [
              "Text(0.5, 1.0, 'Most common words in fake tweets')"
            ]
          },
          "metadata": {
            "tags": []
          },
          "execution_count": 16
        },
        {
          "output_type": "display_data",
          "data": {
            "image/png": "[encoded data removed]",
            "text/plain": [
              "<Figure size 1152x576 with 1 Axes>"
            ]
          },
          "metadata": {
            "tags": [],
            "needs_background": "light"
          }
        }
      ]
    },
    {
      "cell_type": "code",
      "metadata": {
        "id": "pLJQxAgYDUuC",
        "colab_type": "code",
        "outputId": "a941f22a-3aa8-48eb-e03f-9cd3db8c4023",
        "colab": {
          "base_uri": "https://localhost:8080/",
          "height": 187
        }
      },
      "source": [
        "#Now let's do the same with the other tweets.\n",
        "\n",
        "corpus = create_corpus(1)\n",
        "\n",
        "dic = defaultdict(int)\n",
        "\n",
        "for word in (corpus):\n",
        "    if word in stop:\n",
        "        dic[word] += 1 #Skip if it's a stop word\n",
        "\n",
        "top = sorted(dic.items(), key = lambda x: x[1], reverse = True)[:10]\n",
        "\n",
        "#The key is the index to sort.\n",
        "top"
      ],
      "execution_count": 23,
      "outputs": [
        {
          "output_type": "execute_result",
          "data": {
            "text/plain": [
              "[('the', 1051),\n",
              " ('in', 1037),\n",
              " ('of', 888),\n",
              " ('a', 730),\n",
              " ('to', 706),\n",
              " ('and', 462),\n",
              " ('on', 386),\n",
              " ('for', 368),\n",
              " ('is', 302),\n",
              " ('at', 273)]"
            ]
          },
          "metadata": {
            "tags": []
          },
          "execution_count": 23
        }
      ]
    },
    {
      "cell_type": "code",
      "metadata": {
        "id": "T_JkMZIlD7X-",
        "colab_type": "code",
        "outputId": "13404a5d-63c8-43b5-fd98-25ae4872cae6",
        "colab": {
          "base_uri": "https://localhost:8080/",
          "height": 516
        }
      },
      "source": [
        "plt.rcParams[\"figure.figsize\"] = (16, 8)\n",
        "\n",
        "x, y = zip(*top) #This is unzipping the two values for each entry of top\n",
        "\n",
        "plt.bar(x, y);\n",
        "plt.title(\"Most common words in fake tweets\")"
      ],
      "execution_count": 18,
      "outputs": [
        {
          "output_type": "execute_result",
          "data": {
            "text/plain": [
              "Text(0.5, 1.0, 'Most common words in fake tweets')"
            ]
          },
          "metadata": {
            "tags": []
          },
          "execution_count": 18
        },
        {
          "output_type": "display_data",
          "data": {
            "image/png": "[encoded data removed]",
            "text/plain": [
              "<Figure size 1152x576 with 1 Axes>"
            ]
          },
          "metadata": {
            "tags": [],
            "needs_background": "light"
          }
        }
      ]
    },
    {
      "cell_type": "markdown",
      "metadata": {
        "id": "rqTC7q624hHl",
        "colab_type": "text"
      },
      "source": [
        "# Punctuation analysis"
      ]
    },
    {
      "cell_type": "markdown",
      "metadata": {
        "id": "Np5yfquWD9lP",
        "colab_type": "text"
      },
      "source": [
        "The distribution is similar but not the same. Let's see a bit more focusing on punctuation. I'm going to do the same kind of analysis but with the punctuation. Since it's my primerito día with text, I just learnt there is a punctuation method. Mis dieses to these people."
      ]
    },
    {
      "cell_type": "code",
      "metadata": {
        "id": "AsJK1G4t4ekt",
        "colab_type": "code",
        "colab": {
          "base_uri": "https://localhost:8080/",
          "height": 357
        },
        "outputId": "36c4b176-147a-4011-f384-9e02fe37b7b7"
      },
      "source": [
        "corpus = create_corpus(0) #Start from the fake tweets.\n",
        "\n",
        "dic = defaultdict(int)\n",
        "\n",
        "punct = string.punctuation\n",
        "\n",
        "for i in (corpus):\n",
        "    if i in punct:\n",
        "        dic[i] += 1\n",
        "\n",
        "top = sorted(dic.items(), key = lambda x: x[1], reverse = True)\n",
        "\n",
        "top"
      ],
      "execution_count": 26,
      "outputs": [
        {
          "output_type": "execute_result",
          "data": {
            "text/plain": [
              "[('-', 374),\n",
              " ('|', 91),\n",
              " (':', 30),\n",
              " ('?', 26),\n",
              " ('+', 24),\n",
              " ('@', 18),\n",
              " ('/', 17),\n",
              " ('=', 13),\n",
              " ('.', 12),\n",
              " ('!', 12),\n",
              " ('*', 11),\n",
              " ('~', 7),\n",
              " (\"'\", 6),\n",
              " ('#', 5),\n",
              " ('(', 5),\n",
              " (')', 2),\n",
              " ('/:', 1),\n",
              " ('_', 1),\n",
              " ('$', 1),\n",
              " ('%', 1)]"
            ]
          },
          "metadata": {
            "tags": []
          },
          "execution_count": 26
        }
      ]
    },
    {
      "cell_type": "code",
      "metadata": {
        "id": "vFgGcKcY9jJ1",
        "colab_type": "code",
        "colab": {
          "base_uri": "https://localhost:8080/",
          "height": 299
        },
        "outputId": "18669635-68da-41fe-f1b9-e1e7e1f51b54"
      },
      "source": [
        "x, y = zip(*top)\n",
        "\n",
        "plt.figure(figsize = (8, 4))\n",
        "plt.bar(x, y);\n",
        "plt.title(\"Punctuation in fake tweets\")\n"
      ],
      "execution_count": 28,
      "outputs": [
        {
          "output_type": "execute_result",
          "data": {
            "text/plain": [
              "Text(0.5, 1.0, 'Punctuation in fake tweets')"
            ]
          },
          "metadata": {
            "tags": []
          },
          "execution_count": 28
        },
        {
          "output_type": "display_data",
          "data": {
            "image/png": "[encoded data removed]",
            "text/plain": [
              "<Figure size 576x288 with 1 Axes>"
            ]
          },
          "metadata": {
            "tags": [],
            "needs_background": "light"
          }
        }
      ]
    },
    {
      "cell_type": "markdown",
      "metadata": {
        "id": "hGgbsDgc-dUt",
        "colab_type": "text"
      },
      "source": [
        "Now the same with real tweets."
      ]
    },
    {
      "cell_type": "code",
      "metadata": {
        "id": "VgcIyjfT-c9g",
        "colab_type": "code",
        "colab": {
          "base_uri": "https://localhost:8080/",
          "height": 323
        },
        "outputId": "ba406bd5-1c48-4949-d262-a2698025b762"
      },
      "source": [
        "corpus = create_corpus(1)\n",
        "\n",
        "dic = defaultdict(int)\n",
        "\n",
        "for word in corpus:\n",
        "    if word in punct:\n",
        "        dic[word] += 1\n",
        "\n",
        "top = sorted(dic.items(), key = lambda x: x[1], reverse = True)\n",
        "top"
      ],
      "execution_count": 30,
      "outputs": [
        {
          "output_type": "execute_result",
          "data": {
            "text/plain": [
              "[('-', 389),\n",
              " ('|', 51),\n",
              " (':', 31),\n",
              " ('/', 18),\n",
              " ('~', 14),\n",
              " ('?', 11),\n",
              " ('@', 9),\n",
              " ('.', 7),\n",
              " ('+', 7),\n",
              " ('!', 6),\n",
              " (\"'\", 5),\n",
              " ('=', 4),\n",
              " (';', 3),\n",
              " ('*', 3),\n",
              " ('#', 2),\n",
              " (']', 2),\n",
              " ('=>', 1),\n",
              " (')', 1)]"
            ]
          },
          "metadata": {
            "tags": []
          },
          "execution_count": 30
        }
      ]
    },
    {
      "cell_type": "markdown",
      "metadata": {
        "id": "9adwx6NK-79u",
        "colab_type": "text"
      },
      "source": [
        "And we see the numbers are different. That is a good sign that I didn't take the same corpus."
      ]
    },
    {
      "cell_type": "code",
      "metadata": {
        "id": "vR4ZNj2S_CBp",
        "colab_type": "code",
        "colab": {
          "base_uri": "https://localhost:8080/",
          "height": 299
        },
        "outputId": "e98622cc-7d1d-494c-a444-0b36764dec7a"
      },
      "source": [
        "x_1, y_1 = zip(*top)\n",
        "\n",
        "plt.figure(figsize = (8, 4))\n",
        "\n",
        "#For side by side bar use seaborn with melt.\n",
        "plt.bar(x_1, y_1);\n",
        "plt.title(\"Punctuation of real tweets\")\n",
        "\n"
      ],
      "execution_count": 32,
      "outputs": [
        {
          "output_type": "execute_result",
          "data": {
            "text/plain": [
              "Text(0.5, 1.0, 'Punctuation of real tweets')"
            ]
          },
          "metadata": {
            "tags": []
          },
          "execution_count": 32
        },
        {
          "output_type": "display_data",
          "data": {
            "image/png": "[encoded data removed]",
            "text/plain": [
              "<Figure size 576x288 with 1 Axes>"
            ]
          },
          "metadata": {
            "tags": [],
            "needs_background": "light"
          }
        }
      ]
    },
    {
      "cell_type": "markdown",
      "metadata": {
        "id": "ZCR4-p85Aj2H",
        "colab_type": "text"
      },
      "source": [
        "Let's see the most common words. Not the, a, etc."
      ]
    },
    {
      "cell_type": "code",
      "metadata": {
        "id": "CbTxtWhLAqDW",
        "colab_type": "code",
        "colab": {
          "base_uri": "https://localhost:8080/",
          "height": 357
        },
        "outputId": "0a48c99f-72c2-4d71-be33-82f4bad301bd"
      },
      "source": [
        "corpus = create_corpus(0)\n",
        "\n",
        "counter = Counter(corpus)\n",
        "common = counter.most_common()\n",
        "common[:20] #interesting that the and The are counted as two different words."
      ],
      "execution_count": 34,
      "outputs": [
        {
          "output_type": "execute_result",
          "data": {
            "text/plain": [
              "[('the', 1524),\n",
              " ('a', 1115),\n",
              " ('to', 1099),\n",
              " ('I', 938),\n",
              " ('and', 840),\n",
              " ('of', 834),\n",
              " ('in', 720),\n",
              " ('you', 529),\n",
              " ('is', 512),\n",
              " ('for', 452),\n",
              " ('my', 442),\n",
              " ('on', 387),\n",
              " ('-', 374),\n",
              " ('with', 349),\n",
              " ('that', 326),\n",
              " ('The', 295),\n",
              " ('it', 290),\n",
              " ('be', 268),\n",
              " ('like', 233),\n",
              " ('this', 225)]"
            ]
          },
          "metadata": {
            "tags": []
          },
          "execution_count": 34
        }
      ]
    },
    {
      "cell_type": "code",
      "metadata": {
        "id": "l4ugWFr5BIGf",
        "colab_type": "code",
        "colab": {}
      },
      "source": [
        "x = []\n",
        "y = []\n",
        "\n",
        "for word, count in common:\n",
        "    "
      ],
      "execution_count": 0,
      "outputs": []
    }
  ]
}