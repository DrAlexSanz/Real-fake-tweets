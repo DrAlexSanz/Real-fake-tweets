{
  "nbformat": 4,
  "nbformat_minor": 0,
  "metadata": {
    "kernelspec": {
      "display_name": "Python 3",
      "language": "python",
      "name": "python3"
    },
    "language_info": {
      "codemirror_mode": {
        "name": "ipython",
        "version": 3
      },
      "file_extension": ".py",
      "mimetype": "text/x-python",
      "name": "python",
      "nbconvert_exporter": "python",
      "pygments_lexer": "ipython3",
      "version": "3.7.4"
    },
    "colab": {
      "name": "Data cleaning.ipynb",
      "provenance": [],
      "collapsed_sections": [],
      "toc_visible": true,
      "include_colab_link": true
    }
  },
  "cells": [
    {
      "cell_type": "markdown",
      "metadata": {
        "id": "view-in-github",
        "colab_type": "text"
      },
      "source": [
        "<a href=\"https://colab.research.google.com/github/DrAlexSanz/Real-fake-tweets/blob/master/Data_cleaning.ipynb\" target=\"_parent\"><img src=\"https://colab.research.google.com/assets/colab-badge.svg\" alt=\"Open In Colab\"/></a>"
      ]
    },
    {
      "cell_type": "markdown",
      "metadata": {
        "id": "xwohU8rvXBct",
        "colab_type": "text"
      },
      "source": [
        "This notebook is only for cleaning the data. The next ones will do more ML related tasks but this only cleans the data thoroughly. I can see that data cleaning is going to be critical in this one."
      ]
    },
    {
      "cell_type": "markdown",
      "metadata": {
        "id": "9GAaqWkpKbQ6",
        "colab_type": "text"
      },
      "source": [
        "# Imports and plumbing"
      ]
    },
    {
      "cell_type": "code",
      "metadata": {
        "id": "tKwNtM6uXBcu",
        "colab_type": "code",
        "outputId": "96a8f7c5-4f25-4dd3-93fb-7af517f61eaa",
        "colab": {
          "base_uri": "https://localhost:8080/",
          "height": 51
        }
      },
      "source": [
        "import numpy as np\n",
        "import pandas as pd\n",
        "import os\n",
        "\n",
        "import seaborn as sns\n",
        "import matplotlib.pyplot as plt\n",
        "import matplotlib.patches as mpatches\n",
        "\n",
        "import nltk\n",
        "nltk.download('stopwords')\n",
        "\n",
        "from nltk.corpus import stopwords #This will in the end be set to english and it will be used as a dictionary of stopwords\n",
        "from nltk.util import ngrams\n",
        "from nltk.tokenize import word_tokenize\n",
        "\n",
        "from wordcloud import WordCloud\n",
        "\n",
        "from sklearn.feature_extraction.text import CountVectorizer#, TfidVectorizer\n",
        "from sklearn.model_selection import train_test_split #My old friend XD\n",
        "from sklearn.decomposition import PCA, TruncatedSVD\n",
        "from sklearn.metrics import classification_report, confusion_matrix\n",
        "\n",
        "from collections import defaultdict\n",
        "from collections import Counter\n",
        "\n",
        "stop = set(stopwords.words(\"english\"))\n",
        "\n",
        "import re\n",
        "import gensim\n",
        "import string"
      ],
      "execution_count": 110,
      "outputs": [
        {
          "output_type": "stream",
          "text": [
            "[nltk_data] Downloading package stopwords to /root/nltk_data...\n",
            "[nltk_data]   Package stopwords is already up-to-date!\n"
          ],
          "name": "stdout"
        }
      ]
    },
    {
      "cell_type": "code",
      "metadata": {
        "id": "iCyJlIFEXKN6",
        "colab_type": "code",
        "outputId": "e55b55d8-531e-448d-cad3-6d1c7445bd75",
        "colab": {
          "base_uri": "https://localhost:8080/",
          "height": 54
        }
      },
      "source": [
        "from google.colab import drive\n",
        "drive.mount('/content/drive')"
      ],
      "execution_count": 111,
      "outputs": [
        {
          "output_type": "stream",
          "text": [
            "Drive already mounted at /content/drive; to attempt to forcibly remount, call drive.mount(\"/content/drive\", force_remount=True).\n"
          ],
          "name": "stdout"
        }
      ]
    },
    {
      "cell_type": "markdown",
      "metadata": {
        "id": "_iKo_84zXBcx",
        "colab_type": "text"
      },
      "source": [
        "Enough with all the imports and dependencies, let's load the data. Now I feel like I'm finally doing something XD."
      ]
    },
    {
      "cell_type": "code",
      "metadata": {
        "id": "V97_KLGcXBcz",
        "colab_type": "code",
        "outputId": "f236a17b-346a-4e7c-a3eb-0922d38accff",
        "colab": {
          "base_uri": "https://localhost:8080/",
          "height": 221
        }
      },
      "source": [
        "%cd \"/content/drive/My Drive/Tweets\"\n",
        "\n",
        "train = pd.read_csv(\"train.csv\", engine = \"python\")\n",
        "test = pd.read_csv(\"test.csv\", engine = \"python\")\n",
        "train.head()"
      ],
      "execution_count": 112,
      "outputs": [
        {
          "output_type": "stream",
          "text": [
            "/content/drive/My Drive/Tweets\n"
          ],
          "name": "stdout"
        },
        {
          "output_type": "execute_result",
          "data": {
            "text/html": [
              "<div>\n",
              "<style scoped>\n",
              "    .dataframe tbody tr th:only-of-type {\n",
              "        vertical-align: middle;\n",
              "    }\n",
              "\n",
              "    .dataframe tbody tr th {\n",
              "        vertical-align: top;\n",
              "    }\n",
              "\n",
              "    .dataframe thead th {\n",
              "        text-align: right;\n",
              "    }\n",
              "</style>\n",
              "<table border=\"1\" class=\"dataframe\">\n",
              "  <thead>\n",
              "    <tr style=\"text-align: right;\">\n",
              "      <th></th>\n",
              "      <th>id</th>\n",
              "      <th>keyword</th>\n",
              "      <th>location</th>\n",
              "      <th>text</th>\n",
              "      <th>target</th>\n",
              "    </tr>\n",
              "  </thead>\n",
              "  <tbody>\n",
              "    <tr>\n",
              "      <th>0</th>\n",
              "      <td>1</td>\n",
              "      <td>NaN</td>\n",
              "      <td>NaN</td>\n",
              "      <td>Our Deeds are the Reason of this #earthquake M...</td>\n",
              "      <td>1</td>\n",
              "    </tr>\n",
              "    <tr>\n",
              "      <th>1</th>\n",
              "      <td>4</td>\n",
              "      <td>NaN</td>\n",
              "      <td>NaN</td>\n",
              "      <td>Forest fire near La Ronge Sask. Canada</td>\n",
              "      <td>1</td>\n",
              "    </tr>\n",
              "    <tr>\n",
              "      <th>2</th>\n",
              "      <td>5</td>\n",
              "      <td>NaN</td>\n",
              "      <td>NaN</td>\n",
              "      <td>All residents asked to 'shelter in place' are ...</td>\n",
              "      <td>1</td>\n",
              "    </tr>\n",
              "    <tr>\n",
              "      <th>3</th>\n",
              "      <td>6</td>\n",
              "      <td>NaN</td>\n",
              "      <td>NaN</td>\n",
              "      <td>13,000 people receive #wildfires evacuation or...</td>\n",
              "      <td>1</td>\n",
              "    </tr>\n",
              "    <tr>\n",
              "      <th>4</th>\n",
              "      <td>7</td>\n",
              "      <td>NaN</td>\n",
              "      <td>NaN</td>\n",
              "      <td>Just got sent this photo from Ruby #Alaska as ...</td>\n",
              "      <td>1</td>\n",
              "    </tr>\n",
              "  </tbody>\n",
              "</table>\n",
              "</div>"
            ],
            "text/plain": [
              "   id keyword  ...                                               text target\n",
              "0   1     NaN  ...  Our Deeds are the Reason of this #earthquake M...      1\n",
              "1   4     NaN  ...             Forest fire near La Ronge Sask. Canada      1\n",
              "2   5     NaN  ...  All residents asked to 'shelter in place' are ...      1\n",
              "3   6     NaN  ...  13,000 people receive #wildfires evacuation or...      1\n",
              "4   7     NaN  ...  Just got sent this photo from Ruby #Alaska as ...      1\n",
              "\n",
              "[5 rows x 5 columns]"
            ]
          },
          "metadata": {
            "tags": []
          },
          "execution_count": 112
        }
      ]
    },
    {
      "cell_type": "markdown",
      "metadata": {
        "id": "OIsm1u92KiRV",
        "colab_type": "text"
      },
      "source": [
        "# EDA"
      ]
    },
    {
      "cell_type": "markdown",
      "metadata": {
        "id": "-cnDx3lkXBc4",
        "colab_type": "text"
      },
      "source": [
        "This story is about predicting if the tweets are about a real catastrophe or not (binary classification). Let's see the distribution of labels and hopefully it won't be very skewed. It's a tiny dataset."
      ]
    },
    {
      "cell_type": "code",
      "metadata": {
        "id": "qeAUC60tXBc5",
        "colab_type": "code",
        "outputId": "b863f020-838b-4860-c596-12de04a1297c",
        "colab": {
          "base_uri": "https://localhost:8080/",
          "height": 34
        }
      },
      "source": [
        "train_real = train[train[\"target\"] == 1].shape[0]\n",
        "train_fake = train[train[\"target\"] == 0].shape[0]\n",
        "\n",
        "print(\"there are {} real twits and {} fake twits\".format(train_real, train_fake))\n",
        "\n"
      ],
      "execution_count": 113,
      "outputs": [
        {
          "output_type": "stream",
          "text": [
            "there are 3271 real twits and 4342 fake twits\n"
          ],
          "name": "stdout"
        }
      ]
    },
    {
      "cell_type": "code",
      "metadata": {
        "id": "MIJaQoA4XBc9",
        "colab_type": "code",
        "outputId": "19071167-6bca-4327-b0cf-b9ec4fafa586",
        "colab": {
          "base_uri": "https://localhost:8080/",
          "height": 516
        }
      },
      "source": [
        "#Now the same but in bars\n",
        "\n",
        "plt.bar(10, train_real, 3, label = \"Real\")\n",
        "plt.bar(15, train_fake, 3, label = \"Fake\")\n",
        "plt.legend()\n",
        "plt.title(\"Proportion of real and fake twits\")"
      ],
      "execution_count": 114,
      "outputs": [
        {
          "output_type": "execute_result",
          "data": {
            "text/plain": [
              "Text(0.5, 1.0, 'Proportion of real and fake twits')"
            ]
          },
          "metadata": {
            "tags": []
          },
          "execution_count": 114
        },
        {
          "output_type": "display_data",
          "data": {
            "image/png": "[encoded data removed]",
            "text/plain": [
              "<Figure size 1152x576 with 1 Axes>"
            ]
          },
          "metadata": {
            "tags": [],
            "needs_background": "light"
          }
        }
      ]
    },
    {
      "cell_type": "code",
      "metadata": {
        "id": "x5ycZSaNXBdA",
        "colab_type": "code",
        "colab": {}
      },
      "source": [
        "def length(text):\n",
        "    \"\"\"Just to calculate length, it's tu use in an apply method. Probably there is a better way to do it\n",
        "        but I can't think of one right now.\n",
        "    \"\"\"\n",
        "    return len(text)"
      ],
      "execution_count": 0,
      "outputs": []
    },
    {
      "cell_type": "code",
      "metadata": {
        "id": "5OkN0nTHXBdE",
        "colab_type": "code",
        "colab": {}
      },
      "source": [
        "# I will remove these columns when I save the clean data but it's very useful to explore them.\n",
        "train[\"length\"] = train[\"text\"].apply(length)\n",
        "test[\"length\"] = test[\"text\"].apply(length)"
      ],
      "execution_count": 0,
      "outputs": []
    },
    {
      "cell_type": "markdown",
      "metadata": {
        "id": "lj8bkVTxXBdJ",
        "colab_type": "text"
      },
      "source": [
        "Now I want to have a look to see how long are the fake and real tweets. That may be something Lacambra style."
      ]
    },
    {
      "cell_type": "code",
      "metadata": {
        "id": "IzaBzyw8XBdJ",
        "colab_type": "code",
        "outputId": "453b167e-607c-463d-bd6a-2470f90fcf5d",
        "colab": {
          "base_uri": "https://localhost:8080/",
          "height": 308
        }
      },
      "source": [
        "bins = 140 # Twitter has 280 chars, so I will group tweets of 1 and 2, 3 and 4, etc.\n",
        "\n",
        "plt.rcParams[\"figure.figsize\"] = (18, 5)\n",
        "plt.hist(train[train[\"target\"] == 0][\"length\"], alpha = 0.6, bins = bins, label = \"Fake\"); #Alpha is the transparency\n",
        "plt.hist(train[train[\"target\"] == 1][\"length\"], alpha = 0.8, bins = bins, label = \"Real\");\n",
        "plt.xlim(0, 150)\n",
        "plt.legend()\n",
        "#plt.grid()"
      ],
      "execution_count": 117,
      "outputs": [
        {
          "output_type": "execute_result",
          "data": {
            "text/plain": [
              "<matplotlib.legend.Legend at 0x7f632ae3f0b8>"
            ]
          },
          "metadata": {
            "tags": []
          },
          "execution_count": 117
        },
        {
          "output_type": "display_data",
          "data": {
            "image/png": "[encoded data removed]",
            "text/plain": [
              "<Figure size 1296x360 with 1 Axes>"
            ]
          },
          "metadata": {
            "tags": [],
            "needs_background": "light"
          }
        }
      ]
    },
    {
      "cell_type": "markdown",
      "metadata": {
        "id": "Uqxk-pEGXBdM",
        "colab_type": "text"
      },
      "source": [
        "This is relatively uninforming but there are less real tweets that are very short. Let's see the length of the tweets in characters. It's not independent of the length but just for completeness."
      ]
    },
    {
      "cell_type": "code",
      "metadata": {
        "id": "rzNYFez9XBdM",
        "colab_type": "code",
        "outputId": "3587f6d1-d944-4f4e-df16-30a9b4fc8bc9",
        "colab": {
          "base_uri": "https://localhost:8080/",
          "height": 356
        }
      },
      "source": [
        "fig, (ax1, ax2) = plt.subplots(1, 2, figsize = (10, 5))\n",
        "\n",
        "real_length = train[train[\"target\"] == 1][\"text\"].str.len()\n",
        "ax1.hist(real_length, color = \"blue\");\n",
        "ax1.set_title(\"Real disaster tweets\")\n",
        "fake_length = train[train[\"target\"] == 0][\"text\"].str.len()\n",
        "ax2.hist(fake_length, color = \"red\");\n",
        "ax2.set_title(\"Fake disaster tweets\")\n",
        "fig.suptitle(\"Distribution of number of characters in tweets\");\n",
        "\n"
      ],
      "execution_count": 118,
      "outputs": [
        {
          "output_type": "display_data",
          "data": {
            "image/png": "[encoded data removed]",
            "text/plain": [
              "<Figure size 720x360 with 2 Axes>"
            ]
          },
          "metadata": {
            "tags": [],
            "needs_background": "light"
          }
        }
      ]
    },
    {
      "cell_type": "markdown",
      "metadata": {
        "id": "z306GQkfXBdO",
        "colab_type": "text"
      },
      "source": [
        "The characters doesn't help. Most tweets are between 120 and 140 characters. But I can see the number of WORDS, not characters. Dimitri from Vladivostok may be lazy and generate always tweets with the same words. I can't see the number of words like that, I'll plot the average word length per tweet. That I can plot."
      ]
    },
    {
      "cell_type": "code",
      "metadata": {
        "id": "6sZdmthbXBdP",
        "colab_type": "code",
        "outputId": "c16572a3-b802-40fc-fe96-efd8a44c1e25",
        "colab": {
          "base_uri": "https://localhost:8080/",
          "height": 370
        }
      },
      "source": [
        "fig, (ax1, ax2) = plt.subplots(1, 2, figsize = (10, 5))\n",
        "\n",
        "word = train[train[\"target\"] == 1][\"text\"].str.split().apply(lambda x: [len(i) for i in x])\n",
        "sns.distplot(word.map(lambda x: np.mean(x)), ax = ax1, color = \"blue\")\n",
        "ax1.set_title(\"Real disaster tweets\");\n",
        "\n",
        "word = train[train[\"target\"] == 0][\"text\"].str.split().apply(lambda x: [len(i) for i in x])\n",
        "sns.distplot(word.map(lambda x: np.mean(x)), ax = ax2, color = \"red\")\n",
        "ax2.set_title(\"Fake disaster tweets\");\n",
        "\n",
        "fig.suptitle(\"Average word length per tweet\");"
      ],
      "execution_count": 119,
      "outputs": [
        {
          "output_type": "display_data",
          "data": {
            "image/png": "[encoded data removed]",
            "text/plain": [
              "<Figure size 720x360 with 2 Axes>"
            ]
          },
          "metadata": {
            "tags": [],
            "needs_background": "light"
          }
        }
      ]
    },
    {
      "cell_type": "markdown",
      "metadata": {
        "id": "HChYsiSsXBdR",
        "colab_type": "text"
      },
      "source": [
        "This doesn't tell me much, the distribution is almost identical. Dimitri has been industrious."
      ]
    },
    {
      "cell_type": "code",
      "metadata": {
        "id": "C6BMFWzCXBdR",
        "colab_type": "code",
        "colab": {}
      },
      "source": [
        "def create_corpus(target):\n",
        "    \n",
        "    corpus = []\n",
        "    \n",
        "    for x in train[train[\"target\"] == target][\"text\"].str.split():\n",
        "        for i in x:\n",
        "            corpus.append(i)\n",
        "            \n",
        "    return corpus"
      ],
      "execution_count": 0,
      "outputs": []
    },
    {
      "cell_type": "code",
      "metadata": {
        "id": "A8yFMRNfXBdV",
        "colab_type": "code",
        "colab": {}
      },
      "source": [
        "def create_corpus_df(df, target):\n",
        "    \n",
        "    corpus = []\n",
        "    \n",
        "    for x in df[df[\"target\"] == target][\"text\"].str.split():\n",
        "        for i in x:\n",
        "            corpus.append(i)\n",
        "            \n",
        "    return corpus"
      ],
      "execution_count": 0,
      "outputs": []
    },
    {
      "cell_type": "markdown",
      "metadata": {
        "id": "Z2x6xCpQXBdX",
        "colab_type": "text"
      },
      "source": [
        "Let's focus on the fake tweets first (labeled 0)"
      ]
    },
    {
      "cell_type": "code",
      "metadata": {
        "id": "AUGnjVdvXBdX",
        "colab_type": "code",
        "outputId": "f631eed1-80b7-4b32-e5f1-8dc886c36a50",
        "colab": {
          "base_uri": "https://localhost:8080/",
          "height": 34
        }
      },
      "source": [
        "#corpus = create_corpus(0)\n",
        "corups = create_corpus_df(train, 0)\n",
        "corups[0:10]\n"
      ],
      "execution_count": 122,
      "outputs": [
        {
          "output_type": "execute_result",
          "data": {
            "text/plain": [
              "[\"What's\", 'up', 'man?', 'I', 'love', 'fruits', 'Summer', 'is', 'lovely', 'My']"
            ]
          },
          "metadata": {
            "tags": []
          },
          "execution_count": 122
        }
      ]
    },
    {
      "cell_type": "markdown",
      "metadata": {
        "id": "7x7n1oi6vVHP",
        "colab_type": "text"
      },
      "source": [
        "This is working ok but I should check the stopwords. First with the fake tweets."
      ]
    },
    {
      "cell_type": "code",
      "metadata": {
        "id": "kYFw-cOpvp2q",
        "colab_type": "code",
        "outputId": "14626131-5cbb-4891-897c-9571dbb24a4e",
        "colab": {
          "base_uri": "https://localhost:8080/",
          "height": 187
        }
      },
      "source": [
        "corpus = create_corpus(0)\n",
        "\n",
        "dic = defaultdict(int)\n",
        "\n",
        "for word in corpus:\n",
        "    if word in stop:\n",
        "        dic[word] += 1 #Skip if it's a stop word\n",
        "\n",
        "top = sorted(dic.items(), key = lambda x: x[1], reverse = True)[:10]\n",
        "\n",
        "#The key is the index to sort.\n",
        "top"
      ],
      "execution_count": 123,
      "outputs": [
        {
          "output_type": "execute_result",
          "data": {
            "text/plain": [
              "[('the', 1524),\n",
              " ('a', 1115),\n",
              " ('to', 1099),\n",
              " ('and', 840),\n",
              " ('of', 834),\n",
              " ('in', 720),\n",
              " ('you', 529),\n",
              " ('is', 512),\n",
              " ('for', 452),\n",
              " ('my', 442)]"
            ]
          },
          "metadata": {
            "tags": []
          },
          "execution_count": 123
        }
      ]
    },
    {
      "cell_type": "code",
      "metadata": {
        "id": "kt5Iq-gSBSvW",
        "colab_type": "code",
        "outputId": "5740b104-22d5-4ed8-b671-5617e672ed49",
        "colab": {
          "base_uri": "https://localhost:8080/",
          "height": 71
        }
      },
      "source": [
        "# and the stopwords are:\n",
        "\n",
        "np.array(stop)"
      ],
      "execution_count": 124,
      "outputs": [
        {
          "output_type": "execute_result",
          "data": {
            "text/plain": [
              "array({'needn', 'which', 'they', 'this', \"should've\", 'about', 'itself', 'with', \"needn't\", \"you've\", 'doesn', 'am', 'than', 'same', \"doesn't\", \"that'll\", 'haven', 'are', 'whom', 'ourselves', 'has', 'below', 'can', 'do', 'who', \"you're\", 'as', \"aren't\", \"weren't\", 'themselves', \"she's\", 'my', 'y', \"hadn't\", 'myself', 'just', 'isn', 'until', \"mightn't\", 'that', 'been', 'after', 'now', 'what', 'ours', 'should', 'couldn', 'she', 'be', 'to', 'being', 'over', 'very', 'an', 'him', 'wouldn', 'under', 'shouldn', 'yours', 'our', 'ma', 'only', 'for', 'down', 'but', 'hasn', 'both', \"mustn't\", 'any', \"it's\", 'each', 'weren', 'not', 'yourselves', 'at', 'd', 'during', 'out', 'i', \"wouldn't\", 'those', 'between', 'why', 'some', 'these', 'll', 'before', 'so', \"don't\", 'from', 'because', 'there', 'your', 'too', 'if', 'or', 'such', 'yourself', 'no', \"haven't\", 'through', 'having', 'their', 'was', \"isn't\", 'wasn', \"wasn't\", 'is', 'her', 'few', 'nor', 'while', 'had', 'were', \"won't\", 'have', 'o', 'does', 'it', 'then', \"didn't\", 'hadn', 'mustn', 'me', 'once', 've', 'into', 're', 'won', 'don', 'hers', \"you'd\", \"shouldn't\", 'again', 'ain', 'he', 'own', 'off', 'herself', 'shan', 'on', 'how', \"couldn't\", 'didn', 'himself', 's', 'in', 'you', 'them', 'up', 'theirs', 'mightn', 'other', 'we', 'did', 'a', 'aren', 'further', 'of', 'more', 'all', 'here', 'the', 'doing', \"you'll\", 'where', 'and', 'his', 'when', 'its', 'by', 'above', 'most', \"hasn't\", 'against', 't', 'm', \"shan't\", 'will'},\n",
              "      dtype=object)"
            ]
          },
          "metadata": {
            "tags": []
          },
          "execution_count": 124
        }
      ]
    },
    {
      "cell_type": "code",
      "metadata": {
        "id": "vUJrAD1uCR55",
        "colab_type": "code",
        "outputId": "50030439-45d6-412c-fe02-a146e6db9b30",
        "colab": {
          "base_uri": "https://localhost:8080/",
          "height": 516
        }
      },
      "source": [
        "plt.rcParams[\"figure.figsize\"] = (16, 8)\n",
        "\n",
        "x, y = zip(*top) #This is unzipping the two values for each entry of top\n",
        "\n",
        "plt.bar(x, y);\n",
        "plt.title(\"Most common words in fake tweets\")\n",
        "\n"
      ],
      "execution_count": 125,
      "outputs": [
        {
          "output_type": "execute_result",
          "data": {
            "text/plain": [
              "Text(0.5, 1.0, 'Most common words in fake tweets')"
            ]
          },
          "metadata": {
            "tags": []
          },
          "execution_count": 125
        },
        {
          "output_type": "display_data",
          "data": {
            "image/png": "[encoded data removed]",
            "text/plain": [
              "<Figure size 1152x576 with 1 Axes>"
            ]
          },
          "metadata": {
            "tags": [],
            "needs_background": "light"
          }
        }
      ]
    },
    {
      "cell_type": "code",
      "metadata": {
        "id": "pLJQxAgYDUuC",
        "colab_type": "code",
        "outputId": "1f4ea9c1-f75b-45e4-d9bd-9d18bf7dfe5d",
        "colab": {
          "base_uri": "https://localhost:8080/",
          "height": 187
        }
      },
      "source": [
        "#Now let's do the same with the other tweets.\n",
        "\n",
        "corpus = create_corpus(1)\n",
        "\n",
        "dic = defaultdict(int)\n",
        "\n",
        "for word in (corpus):\n",
        "    if word in stop:\n",
        "        dic[word] += 1 #Skip if it's a stop word\n",
        "\n",
        "top = sorted(dic.items(), key = lambda x: x[1], reverse = True)[:10]\n",
        "\n",
        "#The key is the index to sort.\n",
        "top"
      ],
      "execution_count": 126,
      "outputs": [
        {
          "output_type": "execute_result",
          "data": {
            "text/plain": [
              "[('the', 1051),\n",
              " ('in', 1037),\n",
              " ('of', 888),\n",
              " ('a', 730),\n",
              " ('to', 706),\n",
              " ('and', 462),\n",
              " ('on', 386),\n",
              " ('for', 368),\n",
              " ('is', 302),\n",
              " ('at', 273)]"
            ]
          },
          "metadata": {
            "tags": []
          },
          "execution_count": 126
        }
      ]
    },
    {
      "cell_type": "code",
      "metadata": {
        "id": "T_JkMZIlD7X-",
        "colab_type": "code",
        "outputId": "e996c531-21d9-4e23-d931-2fbcbe90fc32",
        "colab": {
          "base_uri": "https://localhost:8080/",
          "height": 516
        }
      },
      "source": [
        "plt.rcParams[\"figure.figsize\"] = (16, 8)\n",
        "\n",
        "x, y = zip(*top) #This is unzipping the two values for each entry of top\n",
        "\n",
        "plt.bar(x, y);\n",
        "plt.title(\"Most common words in fake tweets\")"
      ],
      "execution_count": 127,
      "outputs": [
        {
          "output_type": "execute_result",
          "data": {
            "text/plain": [
              "Text(0.5, 1.0, 'Most common words in fake tweets')"
            ]
          },
          "metadata": {
            "tags": []
          },
          "execution_count": 127
        },
        {
          "output_type": "display_data",
          "data": {
            "image/png": "[encoded data removed]",
            "text/plain": [
              "<Figure size 1152x576 with 1 Axes>"
            ]
          },
          "metadata": {
            "tags": [],
            "needs_background": "light"
          }
        }
      ]
    },
    {
      "cell_type": "markdown",
      "metadata": {
        "id": "rqTC7q624hHl",
        "colab_type": "text"
      },
      "source": [
        "# Punctuation analysis"
      ]
    },
    {
      "cell_type": "markdown",
      "metadata": {
        "id": "Np5yfquWD9lP",
        "colab_type": "text"
      },
      "source": [
        "The distribution is similar but not the same. Let's see a bit more focusing on punctuation. I'm going to do the same kind of analysis but with the punctuation. Since it's my primerito día with text, I just learnt there is a punctuation method. Mis dieses to these people."
      ]
    },
    {
      "cell_type": "code",
      "metadata": {
        "id": "AsJK1G4t4ekt",
        "colab_type": "code",
        "colab": {
          "base_uri": "https://localhost:8080/",
          "height": 357
        },
        "outputId": "bbe1d14a-6cb2-4793-d182-229bbd61606f"
      },
      "source": [
        "corpus = create_corpus(0) #Start from the fake tweets.\n",
        "\n",
        "dic = defaultdict(int)\n",
        "\n",
        "punct = string.punctuation\n",
        "\n",
        "for i in (corpus):\n",
        "    if i in punct:\n",
        "        dic[i] += 1\n",
        "\n",
        "top = sorted(dic.items(), key = lambda x: x[1], reverse = True)\n",
        "\n",
        "top"
      ],
      "execution_count": 128,
      "outputs": [
        {
          "output_type": "execute_result",
          "data": {
            "text/plain": [
              "[('-', 374),\n",
              " ('|', 91),\n",
              " (':', 30),\n",
              " ('?', 26),\n",
              " ('+', 24),\n",
              " ('@', 18),\n",
              " ('/', 17),\n",
              " ('=', 13),\n",
              " ('.', 12),\n",
              " ('!', 12),\n",
              " ('*', 11),\n",
              " ('~', 7),\n",
              " (\"'\", 6),\n",
              " ('#', 5),\n",
              " ('(', 5),\n",
              " (')', 2),\n",
              " ('/:', 1),\n",
              " ('_', 1),\n",
              " ('$', 1),\n",
              " ('%', 1)]"
            ]
          },
          "metadata": {
            "tags": []
          },
          "execution_count": 128
        }
      ]
    },
    {
      "cell_type": "code",
      "metadata": {
        "id": "vFgGcKcY9jJ1",
        "colab_type": "code",
        "colab": {
          "base_uri": "https://localhost:8080/",
          "height": 299
        },
        "outputId": "014580be-9179-4376-c530-900126468480"
      },
      "source": [
        "x, y = zip(*top)\n",
        "\n",
        "plt.figure(figsize = (8, 4))\n",
        "plt.bar(x, y);\n",
        "plt.title(\"Punctuation in fake tweets\")\n"
      ],
      "execution_count": 129,
      "outputs": [
        {
          "output_type": "execute_result",
          "data": {
            "text/plain": [
              "Text(0.5, 1.0, 'Punctuation in fake tweets')"
            ]
          },
          "metadata": {
            "tags": []
          },
          "execution_count": 129
        },
        {
          "output_type": "display_data",
          "data": {
            "image/png": "[encoded data removed]",
            "text/plain": [
              "<Figure size 576x288 with 1 Axes>"
            ]
          },
          "metadata": {
            "tags": [],
            "needs_background": "light"
          }
        }
      ]
    },
    {
      "cell_type": "markdown",
      "metadata": {
        "id": "hGgbsDgc-dUt",
        "colab_type": "text"
      },
      "source": [
        "Now the same with real tweets."
      ]
    },
    {
      "cell_type": "code",
      "metadata": {
        "id": "VgcIyjfT-c9g",
        "colab_type": "code",
        "colab": {
          "base_uri": "https://localhost:8080/",
          "height": 323
        },
        "outputId": "c1fed253-7472-4088-851f-bf14eb6f7405"
      },
      "source": [
        "corpus = create_corpus(1)\n",
        "\n",
        "dic = defaultdict(int)\n",
        "\n",
        "for word in corpus:\n",
        "    if word in punct:\n",
        "        dic[word] += 1\n",
        "\n",
        "top = sorted(dic.items(), key = lambda x: x[1], reverse = True)\n",
        "top"
      ],
      "execution_count": 130,
      "outputs": [
        {
          "output_type": "execute_result",
          "data": {
            "text/plain": [
              "[('-', 389),\n",
              " ('|', 51),\n",
              " (':', 31),\n",
              " ('/', 18),\n",
              " ('~', 14),\n",
              " ('?', 11),\n",
              " ('@', 9),\n",
              " ('.', 7),\n",
              " ('+', 7),\n",
              " ('!', 6),\n",
              " (\"'\", 5),\n",
              " ('=', 4),\n",
              " (';', 3),\n",
              " ('*', 3),\n",
              " ('#', 2),\n",
              " (']', 2),\n",
              " ('=>', 1),\n",
              " (')', 1)]"
            ]
          },
          "metadata": {
            "tags": []
          },
          "execution_count": 130
        }
      ]
    },
    {
      "cell_type": "markdown",
      "metadata": {
        "id": "9adwx6NK-79u",
        "colab_type": "text"
      },
      "source": [
        "And we see the numbers are different. That is a good sign that I didn't take the same corpus."
      ]
    },
    {
      "cell_type": "code",
      "metadata": {
        "id": "vR4ZNj2S_CBp",
        "colab_type": "code",
        "colab": {
          "base_uri": "https://localhost:8080/",
          "height": 299
        },
        "outputId": "c5d110fd-53e3-40fa-d59c-77a0ae18c51b"
      },
      "source": [
        "x_1, y_1 = zip(*top)\n",
        "\n",
        "plt.figure(figsize = (8, 4))\n",
        "\n",
        "#For side by side bar use seaborn with melt.\n",
        "plt.bar(x_1, y_1);\n",
        "plt.title(\"Punctuation of real tweets\")\n",
        "\n"
      ],
      "execution_count": 131,
      "outputs": [
        {
          "output_type": "execute_result",
          "data": {
            "text/plain": [
              "Text(0.5, 1.0, 'Punctuation of real tweets')"
            ]
          },
          "metadata": {
            "tags": []
          },
          "execution_count": 131
        },
        {
          "output_type": "display_data",
          "data": {
            "image/png": "[encoded data removed]",
            "text/plain": [
              "<Figure size 576x288 with 1 Axes>"
            ]
          },
          "metadata": {
            "tags": [],
            "needs_background": "light"
          }
        }
      ]
    },
    {
      "cell_type": "markdown",
      "metadata": {
        "id": "ZCR4-p85Aj2H",
        "colab_type": "text"
      },
      "source": [
        "Let's see the most common words. Not the, a, etc."
      ]
    },
    {
      "cell_type": "code",
      "metadata": {
        "id": "CbTxtWhLAqDW",
        "colab_type": "code",
        "colab": {
          "base_uri": "https://localhost:8080/",
          "height": 357
        },
        "outputId": "d531e36e-d144-409e-8484-a8fdc3a0d87b"
      },
      "source": [
        "corpus = create_corpus(0)\n",
        "\n",
        "counter = Counter(corpus)\n",
        "common = counter.most_common()\n",
        "common[:20] #interesting that the and The are counted as two different words."
      ],
      "execution_count": 132,
      "outputs": [
        {
          "output_type": "execute_result",
          "data": {
            "text/plain": [
              "[('the', 1524),\n",
              " ('a', 1115),\n",
              " ('to', 1099),\n",
              " ('I', 938),\n",
              " ('and', 840),\n",
              " ('of', 834),\n",
              " ('in', 720),\n",
              " ('you', 529),\n",
              " ('is', 512),\n",
              " ('for', 452),\n",
              " ('my', 442),\n",
              " ('on', 387),\n",
              " ('-', 374),\n",
              " ('with', 349),\n",
              " ('that', 326),\n",
              " ('The', 295),\n",
              " ('it', 290),\n",
              " ('be', 268),\n",
              " ('like', 233),\n",
              " ('this', 225)]"
            ]
          },
          "metadata": {
            "tags": []
          },
          "execution_count": 132
        }
      ]
    },
    {
      "cell_type": "code",
      "metadata": {
        "id": "l4ugWFr5BIGf",
        "colab_type": "code",
        "colab": {}
      },
      "source": [
        "x = []\n",
        "y = []\n",
        "\n",
        "for word, count in common:\n",
        "    if word not in stop: #Don't count stopwords\n",
        "        x.append(word)\n",
        "        y.append(count)\n"
      ],
      "execution_count": 0,
      "outputs": []
    },
    {
      "cell_type": "code",
      "metadata": {
        "id": "vrqvDHNQGp3b",
        "colab_type": "code",
        "colab": {}
      },
      "source": [
        "#Previous cell takes long, separate the plotting\n",
        "\n",
        "#plt.figure(figsize = (8, 4))\n",
        "#plt.bar(x, y)\n",
        "\n",
        "#sns.barplot(x = x, y = y)"
      ],
      "execution_count": 0,
      "outputs": []
    },
    {
      "cell_type": "markdown",
      "metadata": {
        "id": "TJJIqhUyIcH6",
        "colab_type": "text"
      },
      "source": [
        "Previous cell gives an error. I understand that this error means one of the character is not found. Probably due to encoding."
      ]
    },
    {
      "cell_type": "markdown",
      "metadata": {
        "id": "H-Ukdm-JKNNB",
        "colab_type": "text"
      },
      "source": [
        "Now let's find the most common bigrams to see if there is any weird thing. I could also do any n-gram."
      ]
    },
    {
      "cell_type": "code",
      "metadata": {
        "id": "Y7TnRCihKXWC",
        "colab_type": "code",
        "colab": {}
      },
      "source": [
        "def get_top_ngrams(corpus, n = None):\n",
        "    \"\"\"Simply put, you get the corpus and find the bigrams.\n",
        "    Then sort and take top n\"\"\"\n",
        "\n",
        "    vec = CountVectorizer(ngram_range = (2, 2)).fit(corpus)\n",
        "    #See example: https://scikit-learn.org/stable/modules/generated/sklearn.feature_extraction.text.CountVectorizer.html\n",
        "    \n",
        "    bag_of_words = vec.transform(corpus) # This is a sparse matrix\n",
        "    sum_words = bag_of_words.sum(axis = 0)\n",
        "    words_freq = [(word, sum_words[0, idx]) for word,idx in vec.vocabulary_.items()] # This gives the word frequency\n",
        "    words_freq = sorted(words_freq, key = lambda x: x[1], reverse = True)[:n]\n",
        "    return words_freq"
      ],
      "execution_count": 0,
      "outputs": []
    },
    {
      "cell_type": "code",
      "metadata": {
        "id": "bTmhptczMYwb",
        "colab_type": "code",
        "colab": {
          "base_uri": "https://localhost:8080/",
          "height": 500
        },
        "outputId": "a714c97f-664e-4f5e-815a-25c94848ed67"
      },
      "source": [
        "top_n_bigrams = get_top_ngrams(train[\"text\"], n = 20)\n",
        "\n",
        "x, y = map(list, zip(*top_n_bigrams))\n",
        "\n",
        "plt.figure(figsize = (8,8))\n",
        "\n",
        "sns.barplot(x = y, y = x)\n"
      ],
      "execution_count": 136,
      "outputs": [
        {
          "output_type": "execute_result",
          "data": {
            "text/plain": [
              "<matplotlib.axes._subplots.AxesSubplot at 0x7f632bd1bb70>"
            ]
          },
          "metadata": {
            "tags": []
          },
          "execution_count": 136
        },
        {
          "output_type": "display_data",
          "data": {
            "image/png": "[encoded data removed]",
            "text/plain": [
              "<Figure size 576x576 with 1 Axes>"
            ]
          },
          "metadata": {
            "tags": [],
            "needs_background": "light"
          }
        }
      ]
    },
    {
      "cell_type": "markdown",
      "metadata": {
        "id": "2_deWbBZSGMO",
        "colab_type": "text"
      },
      "source": [
        "And for the test set:"
      ]
    },
    {
      "cell_type": "code",
      "metadata": {
        "id": "pLAUH_8_R6_2",
        "colab_type": "code",
        "colab": {
          "base_uri": "https://localhost:8080/",
          "height": 500
        },
        "outputId": "d2d58649-42e6-44d4-abc3-c3a9eb72a9e4"
      },
      "source": [
        "top_n_bigrams = get_top_ngrams(test[\"text\"], n = 20)\n",
        "\n",
        "x, y = map(list, zip(*top_n_bigrams))\n",
        "\n",
        "plt.figure(figsize = (8,8))\n",
        "\n",
        "sns.barplot(x = y, y = x)"
      ],
      "execution_count": 137,
      "outputs": [
        {
          "output_type": "execute_result",
          "data": {
            "text/plain": [
              "<matplotlib.axes._subplots.AxesSubplot at 0x7f62c6af4630>"
            ]
          },
          "metadata": {
            "tags": []
          },
          "execution_count": 137
        },
        {
          "output_type": "display_data",
          "data": {
            "image/png": "[encoded data removed]",
            "text/plain": [
              "<Figure size 576x576 with 1 Axes>"
            ]
          },
          "metadata": {
            "tags": [],
            "needs_background": "light"
          }
        }
      ]
    },
    {
      "cell_type": "markdown",
      "metadata": {
        "id": "g_mHSLkERvrT",
        "colab_type": "text"
      },
      "source": [
        "The most common ones are links and they don't use https. In 2020..."
      ]
    },
    {
      "cell_type": "markdown",
      "metadata": {
        "id": "Xlj7JQaQSO2b",
        "colab_type": "text"
      },
      "source": [
        "# Data cleaning"
      ]
    },
    {
      "cell_type": "code",
      "metadata": {
        "id": "LeX7H0d3SVL8",
        "colab_type": "code",
        "colab": {}
      },
      "source": [
        "df = pd.concat([train, test]) # Pass a list, not the two df separated by a comma"
      ],
      "execution_count": 0,
      "outputs": []
    },
    {
      "cell_type": "markdown",
      "metadata": {
        "id": "LWUsZzELUXLE",
        "colab_type": "text"
      },
      "source": [
        "Now I have the dataset in a single df, let's remove punctuation, URLs, html tags, emojis and symbols."
      ]
    },
    {
      "cell_type": "code",
      "metadata": {
        "id": "Ks0sC8fJUnH7",
        "colab_type": "code",
        "colab": {}
      },
      "source": [
        "def remove_punctuation(text):\n",
        "\n",
        "    table = str.maketrans(\"\", \"\", string.punctuation)\n",
        "    # maketrans says: map x to x unless x it's in punctuation. The third argument is mapped to None.\n",
        "    return text.translate(table)"
      ],
      "execution_count": 0,
      "outputs": []
    },
    {
      "cell_type": "code",
      "metadata": {
        "id": "OwA1V4lD25H9",
        "colab_type": "code",
        "colab": {
          "base_uri": "https://localhost:8080/",
          "height": 34
        },
        "outputId": "765602f1-3d75-4594-bd95-0569552248b0"
      },
      "source": [
        "example = \"¡¡Cipote!!\"\n",
        "\n",
        "cleaning_test = remove_punctuation(example)\n",
        "cleaning_test #Unsurprisingly, the punctuation is english, not espanish. Because I set it like that in the first cell."
      ],
      "execution_count": 139,
      "outputs": [
        {
          "output_type": "execute_result",
          "data": {
            "text/plain": [
              "'¡¡Cipote'"
            ]
          },
          "metadata": {
            "tags": []
          },
          "execution_count": 139
        }
      ]
    },
    {
      "cell_type": "markdown",
      "metadata": {
        "id": "Z5LD0SzP4CHS",
        "colab_type": "text"
      },
      "source": [
        "The best way to clean URLs is regular expressions. They can't be too bad."
      ]
    },
    {
      "cell_type": "code",
      "metadata": {
        "id": "wZPVvoj34LjI",
        "colab_type": "code",
        "colab": {}
      },
      "source": [
        "def remove_urls(text):\n",
        "    \"\"\"This function removes urls with a RE\"\"\"\n",
        "\n",
        "    url = re.compile(r\"https?://\\S+|www\\.\\S+\")\n",
        "    # https? means that the s may or may not be there. Because there is a ? right after the s.\n",
        "    # h?ttps? means that the h and the s may or may not be there.\n",
        "    # \\S is a NOT white space. So it will match anything that is not a white space.\n",
        "    # The | is because I'm matching either anything that is NOT a white space or www followed by .\n",
        "    # The last \\S is saying match anything (the . is wildcard) until you find a white space.\n",
        "    # The + is 1 OR more. \n",
        "    # So reading: match the http(s):// and then: anything that is not space OR www and anything that is not white space\n",
        "    # stop matching when you find white space (match NOT white space as many times as you find).\n",
        "\n",
        "    return url.sub(r\"\", text)"
      ],
      "execution_count": 0,
      "outputs": []
    },
    {
      "cell_type": "code",
      "metadata": {
        "id": "kCZm5tZX76gk",
        "colab_type": "code",
        "colab": {
          "base_uri": "https://localhost:8080/",
          "height": 34
        },
        "outputId": "ee6585b3-352a-4cd1-ff37-46e0363a93a1"
      },
      "source": [
        "example = \"http://www.abc.com y ya no más\"\n",
        "\n",
        "cleaning_test = remove_urls(example)\n",
        "cleaning_test"
      ],
      "execution_count": 144,
      "outputs": [
        {
          "output_type": "execute_result",
          "data": {
            "text/plain": [
              "' y ya no más'"
            ]
          },
          "metadata": {
            "tags": []
          },
          "execution_count": 144
        }
      ]
    },
    {
      "cell_type": "markdown",
      "metadata": {
        "id": "6Uh9XHdZDy9Q",
        "colab_type": "text"
      },
      "source": [
        "Same thing with html tags. I know they are between <>."
      ]
    },
    {
      "cell_type": "code",
      "metadata": {
        "id": "aZgcyHecD8tJ",
        "colab_type": "code",
        "colab": {}
      },
      "source": [
        "def remove_html(text):\n",
        "    html=re.compile(r'<.*?>')\n",
        "    # Match < followed by anything, 0 or more times, which may or may not be there (?) and then >\n",
        "    # this matches a real tag (<head>) and an empty one (<>)\n",
        "    return html.sub(r'',text)\n"
      ],
      "execution_count": 0,
      "outputs": []
    },
    {
      "cell_type": "code",
      "metadata": {
        "id": "bLUPrW96EltJ",
        "colab_type": "code",
        "colab": {
          "base_uri": "https://localhost:8080/",
          "height": 51
        },
        "outputId": "76f9bddb-2dfa-44ef-8a42-2be44211c902"
      },
      "source": [
        "example = \"aa <head and tails> b c \"\n",
        "example2 = \"a<>b\"\n",
        "\n",
        "print(remove_html(example))\n",
        "print(remove_html(example2))"
      ],
      "execution_count": 149,
      "outputs": [
        {
          "output_type": "stream",
          "text": [
            "aa  b c \n",
            "ab\n"
          ],
          "name": "stdout"
        }
      ]
    },
    {
      "cell_type": "markdown",
      "metadata": {
        "id": "o-B14hSOFDsJ",
        "colab_type": "text"
      },
      "source": [
        "Now remove the emojis. This is taken as is from slowkow. [Reference here](https://gist.github.com/slowkow/7a7f61f495e3dbb7e3d767f97bd7304b)"
      ]
    },
    {
      "cell_type": "code",
      "metadata": {
        "id": "GDjdVPNVFC7B",
        "colab_type": "code",
        "colab": {
          "base_uri": "https://localhost:8080/",
          "height": 34
        },
        "outputId": "a9daa379-0251-436d-aa1e-320c2389f0f2"
      },
      "source": [
        "def remove_emoji(text):\n",
        "    emoji_pattern = re.compile(\"[\"\n",
        "                           u\"\\U0001F600-\\U0001F64F\"  # emoticons\n",
        "                           u\"\\U0001F300-\\U0001F5FF\"  # symbols & pictographs\n",
        "                           u\"\\U0001F680-\\U0001F6FF\"  # transport & map symbols\n",
        "                           u\"\\U0001F1E0-\\U0001F1FF\"  # flags (iOS)\n",
        "                           u\"\\U00002702-\\U000027B0\"\n",
        "                           u\"\\U000024C2-\\U0001F251\"\n",
        "                           \"]+\", flags=re.UNICODE)\n",
        "    return emoji_pattern.sub(r'', text)\n",
        "\n",
        "remove_emoji(\"Omg another Earthquake 😔😔\")"
      ],
      "execution_count": 150,
      "outputs": [
        {
          "output_type": "execute_result",
          "data": {
            "text/plain": [
              "'Omg another Earthquake '"
            ]
          },
          "metadata": {
            "tags": []
          },
          "execution_count": 150
        }
      ]
    },
    {
      "cell_type": "markdown",
      "metadata": {
        "id": "cb6wGNA7Fmdt",
        "colab_type": "text"
      },
      "source": [
        "And this is it. Now I am going to apply everything at the same time. Because it makes more sense and I only have to find one spot."
      ]
    },
    {
      "cell_type": "code",
      "metadata": {
        "id": "LrssH89-Ft08",
        "colab_type": "code",
        "colab": {}
      },
      "source": [
        "df[\"text\"] = df[\"text\"].apply(lambda x: remove_punctuation(x))\n",
        "df[\"text\"] = df[\"text\"].apply(lambda x: remove_urls(x))\n",
        "df[\"text\"] = df[\"text\"].apply(lambda x: remove_html(x))\n",
        "df[\"text\"] = df[\"text\"].apply(lambda x: remove_emoji(x))"
      ],
      "execution_count": 0,
      "outputs": []
    },
    {
      "cell_type": "markdown",
      "metadata": {
        "id": "WH58RZZyGTK3",
        "colab_type": "text"
      },
      "source": [
        "And it shouldn't complain. Last thing I need to do is save the clean dataset just in case."
      ]
    },
    {
      "cell_type": "code",
      "metadata": {
        "id": "nlKVs07MGZJP",
        "colab_type": "code",
        "colab": {}
      },
      "source": [
        "df.to_csv(\"clean_dataset.csv\")"
      ],
      "execution_count": 0,
      "outputs": []
    },
    {
      "cell_type": "markdown",
      "metadata": {
        "id": "AgGc7hSFGwX7",
        "colab_type": "text"
      },
      "source": [
        "And the cleaning is done. Next thing, start exploring and do more language related things. Bag of words, PCA or any of these bad ideas that I have."
      ]
    }
  ]
}